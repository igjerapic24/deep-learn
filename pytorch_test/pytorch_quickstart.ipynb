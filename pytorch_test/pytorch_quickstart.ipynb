{
 "cells": [
  {
   "cell_type": "markdown",
   "metadata": {},
   "source": [
    "# Quickstart\n",
    "\n",
    "This section runs through the API for common tasks in machine learning.\n",
    "\n",
    "## Working with data\n",
    "PyTorch has two primitives to work with data: `torch.utils.data.DataLoader` and `torch.utils.data.Dataset`. `Dataset` stores the samples and their corresponding labels, and `DataLoader` wraps an iterable around the `Dataset`."
   ]
  },
  {
   "cell_type": "code",
   "execution_count": 1,
   "metadata": {},
   "outputs": [],
   "source": [
    "import torch\n",
    "from torch import nn\n",
    "from torch.utils.data import DataLoader\n",
    "from torchvision import datasets\n",
    "from torchvision.transforms import ToTensor"
   ]
  },
  {
   "cell_type": "code",
   "execution_count": 2,
   "metadata": {},
   "outputs": [
    {
     "name": "stderr",
     "output_type": "stream",
     "text": [
      "100%|██████████| 26.4M/26.4M [00:01<00:00, 19.2MB/s]\n",
      "100%|██████████| 29.5k/29.5k [00:00<00:00, 1.48MB/s]\n",
      "100%|██████████| 4.42M/4.42M [00:00<00:00, 12.3MB/s]\n",
      "100%|██████████| 5.15k/5.15k [00:00<00:00, 14.4MB/s]\n"
     ]
    }
   ],
   "source": [
    "# Download training data from open datasets.\n",
    "training_data = datasets.FashionMNIST(\n",
    "    root=\"data\",\n",
    "    train=True,\n",
    "    download=True,\n",
    "    transform=ToTensor(),\n",
    ")\n",
    "\n",
    "# Download test data from open datasets.\n",
    "test_data = datasets.FashionMNIST(\n",
    "    root=\"data\",\n",
    "    train=False,\n",
    "    download=True,\n",
    "    transform=ToTensor(),\n",
    ")"
   ]
  },
  {
   "cell_type": "code",
   "execution_count": 3,
   "metadata": {},
   "outputs": [
    {
     "name": "stdout",
     "output_type": "stream",
     "text": [
      "Shape of X [N, C, H, W]: torch.Size([64, 1, 28, 28])\n",
      "Shape of y: torch.Size([64]) torch.int64\n"
     ]
    }
   ],
   "source": [
    "batch_size = 64\n",
    "\n",
    "# Create data loaders.\n",
    "train_dataloader = DataLoader(training_data, batch_size=batch_size)\n",
    "test_dataloader = DataLoader(test_data, batch_size=batch_size)\n",
    "\n",
    "for X, y in test_dataloader:\n",
    "    print(f\"Shape of X [N, C, H, W]: {X.shape}\")\n",
    "    print(f\"Shape of y: {y.shape} {y.dtype}\")\n",
    "    break"
   ]
  },
  {
   "cell_type": "code",
   "execution_count": 4,
   "metadata": {},
   "outputs": [
    {
     "name": "stdout",
     "output_type": "stream",
     "text": [
      "Using cuda device\n",
      "NeuralNetwork(\n",
      "  (flatten): Flatten(start_dim=1, end_dim=-1)\n",
      "  (linear_relu_stack): Sequential(\n",
      "    (0): Linear(in_features=784, out_features=512, bias=True)\n",
      "    (1): ReLU()\n",
      "    (2): Linear(in_features=512, out_features=512, bias=True)\n",
      "    (3): ReLU()\n",
      "    (4): Linear(in_features=512, out_features=10, bias=True)\n",
      "  )\n",
      ")\n"
     ]
    }
   ],
   "source": [
    "device = torch.accelerator.current_accelerator().type if torch.accelerator.is_available() else \"cpu\"\n",
    "print(f\"Using {device} device\")\n",
    "\n",
    "# Define model\n",
    "class NeuralNetwork(nn.Module):\n",
    "    def __init__(self):\n",
    "        super().__init__()\n",
    "        self.flatten = nn.Flatten()\n",
    "        self.linear_relu_stack = nn.Sequential(\n",
    "            nn.Linear(28*28, 512),\n",
    "            nn.ReLU(),\n",
    "            nn.Linear(512, 512),\n",
    "            nn.ReLU(),\n",
    "            nn.Linear(512, 10)\n",
    "        )\n",
    "\n",
    "    def forward(self, x):\n",
    "        x = self.flatten(x)\n",
    "        logits = self.linear_relu_stack(x)\n",
    "        return logits\n",
    "\n",
    "model = NeuralNetwork().to(device)\n",
    "print(model)"
   ]
  },
  {
   "cell_type": "code",
   "execution_count": 5,
   "metadata": {},
   "outputs": [],
   "source": [
    "loss_fn = nn.CrossEntropyLoss()\n",
    "optimizer = torch.optim.SGD(model.parameters(), lr=1e-3)"
   ]
  },
  {
   "cell_type": "code",
   "execution_count": 6,
   "metadata": {},
   "outputs": [],
   "source": [
    "def train(dataloader, model, loss_fn, optimizer):\n",
    "    size = len(dataloader.dataset)\n",
    "    model.train()\n",
    "    for batch, (X, y) in enumerate(dataloader):\n",
    "        X, y = X.to(device), y.to(device)\n",
    "\n",
    "        # Compute prediction error\n",
    "        pred = model(X)\n",
    "        loss = loss_fn(pred, y)\n",
    "\n",
    "        # Backpropagation\n",
    "        loss.backward()\n",
    "        optimizer.step()\n",
    "        optimizer.zero_grad()\n",
    "\n",
    "        if batch % 100 == 0:\n",
    "            loss, current = loss.item(), (batch + 1) * len(X)\n",
    "            print(f\"loss: {loss:>7f}  [{current:>5d}/{size:>5d}]\")\n"
   ]
  },
  {
   "cell_type": "code",
   "execution_count": 7,
   "metadata": {},
   "outputs": [],
   "source": [
    "def test(dataloader, model, loss_fn):\n",
    "    size = len(dataloader.dataset)\n",
    "    num_batches = len(dataloader)\n",
    "    model.eval()\n",
    "    test_loss, correct = 0, 0\n",
    "    with torch.no_grad():\n",
    "        for X, y in dataloader:\n",
    "            X, y = X.to(device), y.to(device)\n",
    "            pred = model(X)\n",
    "            test_loss += loss_fn(pred, y).item()\n",
    "            correct += (pred.argmax(1) == y).type(torch.float).sum().item()\n",
    "    test_loss /= num_batches\n",
    "    correct /= size\n",
    "    print(f\"Test Error: \\n Accuracy: {(100*correct):>0.1f}%, Avg loss: {test_loss:>8f} \\n\")"
   ]
  },
  {
   "cell_type": "code",
   "execution_count": 8,
   "metadata": {},
   "outputs": [
    {
     "name": "stdout",
     "output_type": "stream",
     "text": [
      "Epoch 1\n",
      "-------------------------------\n",
      "loss: 2.303002  [   64/60000]\n",
      "loss: 2.289716  [ 6464/60000]\n",
      "loss: 2.272890  [12864/60000]\n",
      "loss: 2.269202  [19264/60000]\n",
      "loss: 2.240433  [25664/60000]\n",
      "loss: 2.218827  [32064/60000]\n",
      "loss: 2.227085  [38464/60000]\n",
      "loss: 2.195072  [44864/60000]\n",
      "loss: 2.197680  [51264/60000]\n",
      "loss: 2.167679  [57664/60000]\n",
      "Test Error: \n",
      " Accuracy: 51.2%, Avg loss: 2.154550 \n",
      "\n",
      "Epoch 2\n",
      "-------------------------------\n",
      "loss: 2.160681  [   64/60000]\n",
      "loss: 2.154422  [ 6464/60000]\n",
      "loss: 2.095201  [12864/60000]\n",
      "loss: 2.121655  [19264/60000]\n",
      "loss: 2.054142  [25664/60000]\n",
      "loss: 1.997322  [32064/60000]\n",
      "loss: 2.038178  [38464/60000]\n",
      "loss: 1.952469  [44864/60000]\n",
      "loss: 1.969833  [51264/60000]\n",
      "loss: 1.902000  [57664/60000]\n",
      "Test Error: \n",
      " Accuracy: 57.0%, Avg loss: 1.889324 \n",
      "\n",
      "Epoch 3\n",
      "-------------------------------\n",
      "loss: 1.913271  [   64/60000]\n",
      "loss: 1.890734  [ 6464/60000]\n",
      "loss: 1.769330  [12864/60000]\n",
      "loss: 1.828966  [19264/60000]\n",
      "loss: 1.698970  [25664/60000]\n",
      "loss: 1.645364  [32064/60000]\n",
      "loss: 1.685141  [38464/60000]\n",
      "loss: 1.577662  [44864/60000]\n",
      "loss: 1.608982  [51264/60000]\n",
      "loss: 1.509834  [57664/60000]\n",
      "Test Error: \n",
      " Accuracy: 62.4%, Avg loss: 1.519854 \n",
      "\n",
      "Epoch 4\n",
      "-------------------------------\n",
      "loss: 1.572466  [   64/60000]\n",
      "loss: 1.549793  [ 6464/60000]\n",
      "loss: 1.397462  [12864/60000]\n",
      "loss: 1.487616  [19264/60000]\n",
      "loss: 1.345502  [25664/60000]\n",
      "loss: 1.338701  [32064/60000]\n",
      "loss: 1.360160  [38464/60000]\n",
      "loss: 1.286211  [44864/60000]\n",
      "loss: 1.321211  [51264/60000]\n",
      "loss: 1.224785  [57664/60000]\n",
      "Test Error: \n",
      " Accuracy: 63.6%, Avg loss: 1.248387 \n",
      "\n",
      "Epoch 5\n",
      "-------------------------------\n",
      "loss: 1.312616  [   64/60000]\n",
      "loss: 1.307840  [ 6464/60000]\n",
      "loss: 1.140331  [12864/60000]\n",
      "loss: 1.263314  [19264/60000]\n",
      "loss: 1.117341  [25664/60000]\n",
      "loss: 1.139860  [32064/60000]\n",
      "loss: 1.163725  [38464/60000]\n",
      "loss: 1.108145  [44864/60000]\n",
      "loss: 1.144812  [51264/60000]\n",
      "loss: 1.063491  [57664/60000]\n",
      "Test Error: \n",
      " Accuracy: 64.8%, Avg loss: 1.082263 \n",
      "\n",
      "Done!\n"
     ]
    }
   ],
   "source": [
    "epochs = 5\n",
    "for t in range(epochs):\n",
    "    print(f\"Epoch {t+1}\\n-------------------------------\")\n",
    "    train(train_dataloader, model, loss_fn, optimizer)\n",
    "    test(test_dataloader, model, loss_fn)\n",
    "print(\"Done!\")"
   ]
  },
  {
   "cell_type": "code",
   "execution_count": null,
   "metadata": {},
   "outputs": [],
   "source": []
  }
 ],
 "metadata": {
  "kernelspec": {
   "display_name": "base",
   "language": "python",
   "name": "python3"
  },
  "language_info": {
   "codemirror_mode": {
    "name": "ipython",
    "version": 3
   },
   "file_extension": ".py",
   "mimetype": "text/x-python",
   "name": "python",
   "nbconvert_exporter": "python",
   "pygments_lexer": "ipython3",
   "version": "3.12.7"
  }
 },
 "nbformat": 4,
 "nbformat_minor": 2
}
