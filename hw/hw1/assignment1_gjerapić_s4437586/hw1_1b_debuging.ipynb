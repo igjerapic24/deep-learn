{
  "nbformat": 4,
  "nbformat_minor": 0,
  "metadata": {
    "colab": {
      "provenance": []
    },
    "kernelspec": {
      "name": "python3",
      "display_name": "Python 3"
    },
    "language_info": {
      "name": "python"
    }
  },
  "cells": [
    {
      "cell_type": "code",
      "source": [
        "# mounting drive. Remove when testing/running locally\n",
        "from google.colab import drive\n",
        "drive.mount('/content/drive/')\n",
        "%cd /content/drive/MyDrive/nanoscience_mast/deep-learn/hws/hw1/"
      ],
      "metadata": {
        "colab": {
          "base_uri": "https://localhost:8080/"
        },
        "id": "nyYSPZ8rHAhL",
        "outputId": "94d2cb52-3c83-4a90-b51b-6a9068bb020f"
      },
      "execution_count": 1,
      "outputs": [
        {
          "output_type": "stream",
          "name": "stdout",
          "text": [
            "Mounted at /content/drive/\n",
            "/content/drive/MyDrive/nanoscience_mast/deep-learn/hws/hw1\n"
          ]
        }
      ]
    },
    {
      "cell_type": "markdown",
      "source": [
        "# Hands-on 01b: Debugging\n",
        "The following explain basic guidlines of rules to follow to systematically debug code\n",
        "\n",
        "## 1 Know what its supposed to do\n",
        "Need to be able to tell correct output from incorrect. If we can assuret that with *these/specific* inputs, the function should produce *that* resutl, then we can start debugging. Otherwise, we don't know how we can tell when the bug(s) have been fixed.\n",
        "\n",
        "In scientific software, the output is know known before hand, thus scientists tend to do something along the following:\n",
        "  1. *Test with simplified data.* Before doing statistics on a real data set, we should try calculating statistics for a single record, for two identical records, for two records whose values are one step apart, or for some other case where we can calculate the right answer by hand.\n",
        "\n",
        "  1. *Test a simplified case*. If our program is supposed to simulate magnetic eddies in rapidly-rotating blobs of supercooled helium, our first test should be a blob of helium that isn’t rotating, and isn’t being subjected to any external electromagnetic fields. Similarly, if we’re looking at the effects of climate change on speciation, our first test should hold temperature, precipitation, and other factors constant.\n",
        "\n",
        "  1. *Compare to an oracle* . A test oracle is something whose results are trusted, such as experimental data, an older program, or a human expert. We use test oracles to determine if our new program produces the correct results. If we have a test oracle, we should store its output for particular cases so that we can compare it with our new results as often as we like without re-running that program.\n",
        "\n",
        "  1. *Check conservation laws*. Mass, energy, and other quantities are conserved in physical systems, so they should be in programs as well. Similarly, if we are analyzing patient data, the number of records should either stay the same or decrease as we move from one analysis to the next (since we might throw away outliers or records with missing values). If “new” patients start appearing out of nowhere as we move through our pipeline, it’s probably a sign that something is wrong.\n",
        "\n",
        "  1. *Visualize*. Data analysts frequently use simple visualizations to check both the science they’re doing and the correctness of their code (just as we did in the opening lesson of this tutorial). This should only be used for debugging as a last resort, though, since it’s very hard to compare two visualizations automatically.\n",
        "\n",
        "## 2 Make It Fail Every Time\n",
        "Need to find a test case that makes it *fail every time*. The “every time” part is important because few things are more frustrating than debugging an intermittent problem: if we have to call a function a dozen times to get a single failure, the odds are good that we’ll scroll past the failure when it actually occurs.\n",
        "\n",
        "As part of this, it’s always important to check that our code is “plugged in”, i.e., that we’re actually exercising the problem that we think we are. Every programmer has spent hours chasing a bug, only to realize that they were actually calling their code on the wrong data set or with the wrong configuration parameters, or are using the wrong version of the software entirely. Mistakes like these are particularly likely to happen when we’re tired, frustrated, and up against a deadline, which is one of the reasons late-night (or overnight) coding sessions are almost never worthwhile\n",
        "\n",
        "## 3 Make it Fail Fast (in time and in space)\n",
        "If it takes 20 minutes for the bug to surface, we can only do three experiments an hour. This means that we’ll get less data in more time and that we’re more likely to be distracted by other things as we wait for our program to fail, which means the time we are spending on the problem is less focused. It’s therefore critical to make it fail fast.\n",
        "\n",
        "As well as making the program fail fast in time, we want to make it fail fast in space, i.e., we want to localize the failure to the smallest possible region of code:\n",
        "  1. The smaller the gap between cause and effect, the easier the connection is to find. Many programmers therefore use a divide and conquer strategy to find bugs, i.e., if the output of a function is wrong, they check whether things are OK in the middle, then concentrate on either the first or second half, and so on.\n",
        "\n",
        "  1. $N$ things can interact in $N!$ different ways, so every line of code that isn’t run as part of a test means more than one thing we don’t need to worry about.\n",
        "\n",
        "## 4. Change One Thing at a Time, For a Reason\n",
        "Replacing random chunks of code is unlikely to do much good. (After all, if you got it wrong the first time, you’ll probably get it wrong the second and third as well.) Good programmers therefore change one thing at a time, for a reason. They are either trying to gather more information (“is the bug still there if we change the order of the loops?”) or test a fix (“can we make the bug go away by sorting our data before processing it?”).\n",
        "\n",
        "Every time we make a change, however small, we should re-run our tests immediately, because the more things we change at once, the harder it is to know what’s responsible for what (those N! interactions again). And we should re-run all of our tests: more than half of fixes made to code introduce (or re-introduce) bugs, so re-running all of our tests tells us whether we have regressed.\n",
        "\n",
        "## 5. Keep Track of what was Done\n",
        "Good scientists keep track of what they’ve done so that they can reproduce their work, and so that they don’t waste time repeating the same experiments or running ones whose results won’t be interesting. Similarly, debugging works best when we keep track of what we’ve done and how well it worked. If we find ourselves asking, “Did left followed by right with an odd number of lines cause the crash? Or was it right followed by left? Or was I using an even number of lines?” then it’s time to step away from the computer, take a deep breath, and start working more systematically.\n",
        "\n",
        "Records are particularly useful when the time comes to ask for help. People are more likely to listen to us when we can explain clearly what we did, and we’re better able to give them the information they need to be useful.\n",
        "\n",
        "## Version Control Revisited\n",
        "\n",
        "Version control is often used to reset software to a known state during debugging, and to explore recent changes to code that might be responsible for bugs. In particular, most version control systems (e.g. git, Mercurial) have:\n",
        "\n",
        "  1. a `blame` command that shows who last changed each line of a file;\n",
        "\n",
        "  1. a `bisect` command that helps with finding the commit that introduced an issue.\n",
        "\n",
        "## 6. Be Humble\n",
        "\n",
        "And speaking of help: if we can’t find a bug in 10 minutes, we should be humble and ask for help. Explaining the problem to someone else is often useful, since hearing what we’re thinking helps us spot inconsistencies and hidden assumptions. If you don’t have someone nearby to share your problem description with, get a rubber duck!\n",
        "\n",
        "Asking for help also helps alleviate confirmation bias. If we have just spent an hour writing a complicated program, we want it to work, so we’re likely to keep telling ourselves why it should, rather than searching for the reason it doesn’t. People who aren’t emotionally invested in the code can be more objective, which is why they’re often able to spot the simple mistakes we have overlooked.\n",
        "\n",
        "Part of being humble is learning from our mistakes. Programmers tend to get the same things wrong over and over: either they don’t understand the language and libraries they’re working with, or their model of how things work is wrong. In either case, taking note of why the error occurred and checking for it next time quickly turns into not making the mistake at all.\n",
        "\n",
        "And that is what makes us most productive in the long run. As the saying goes, A week of hard work can sometimes save you an hour of thought. If we train ourselves to avoid making some kinds of mistakes, to break our code into modular, testable chunks, and to turn every assumption (or mistake) into an assertion, it will actually take us less time to produce working programs, not more."
      ],
      "metadata": {
        "id": "6jLPyQx6E_wg"
      }
    },
    {
      "cell_type": "markdown",
      "source": [
        "# Debug With a Neighbor\n",
        "\n",
        "Take a function that you have written today, and introduce a tricky bug. Your function should still run, but will give the wrong output. Switch seats with your neighbor and attempt to debug the bug that they introduced into their function. Which of the principles discussed above did you find helpful?\n",
        "\n",
        "**(SKIPPED AS NO PARTNER)**\n",
        "\n",
        "## Not Supposed to be the Same\n",
        "\n",
        "You are assisting a researcher with Python code that computes the body mass index (BMI) of patients. The researcher is concerned because all patients seemingly have unusual and identical BMIs, despite having different physiques. BMI is calculated as weight in kilograms divided by the square of height in meters.\n",
        "\n",
        "Use the debugging principles in this exercise and locate problems with the code. What suggestions would you give the researcher for ensuring any later changes they make work correctly?"
      ],
      "metadata": {
        "id": "bJuFJAC-JdRe"
      }
    },
    {
      "cell_type": "code",
      "execution_count": 2,
      "metadata": {
        "colab": {
          "base_uri": "https://localhost:8080/"
        },
        "id": "tgqlHLUSE2qQ",
        "outputId": "612ccb84-3758-4d86-dcbe-59a2e05cd305"
      },
      "outputs": [
        {
          "output_type": "stream",
          "name": "stdout",
          "text": [
            "Patient 0: [70, 1.8]\n",
            "Patient 1: [80, 1.9]\n",
            "Patient 2: [150, 1.7]\n",
            "Patient's BMI is: 7.555555555555556e-05\n",
            "Patient's BMI is: 7.555555555555556e-05\n",
            "Patient's BMI is: 7.555555555555556e-05\n"
          ]
        }
      ],
      "source": [
        "patients = [[70, 1.8], [80, 1.9], [150, 1.7]]\n",
        "\n",
        "for i in range(len(patients)):\n",
        "    print(f\"Patient {i}: {patients[i]}\")\n",
        "\n",
        "\n",
        "def calculate_bmi(weight, height):\n",
        "    return weight / (height**2)\n",
        "\n",
        "\n",
        "for patient in patients:\n",
        "    weight, height = patients[i]\n",
        "    bmi = calculate_bmi(height, weight)\n",
        "    print(f\"Patient's BMI is: {bmi}\")"
      ]
    },
    {
      "cell_type": "markdown",
      "source": [
        "### Applying principles:\n",
        "1. *Know what its supposed to do* We know what it is suppose to do, which is how we realized that there is a problem, i.e. every patient has same BMI despite different height and masses. We also note that the bmi is extremely small ($10^{-5}), but the weights in kg for adults are typically an order of magnitude higher than the height. Implying the two are flipped in the caluculation.  We are already testing with small data set.\n",
        "1. *Make it fail every time* Observing the `calculate_bmi` funct, see that it should always provide an error if the height is zero due to divide by zero error. This will also test the observation of extremely small BMIs. Also see that `i` is out of scope of the second for loop. Thus, will always fail if i is not defined:\n",
        "1. *Make it fail fast* The first for loop has no errors, thus the code should not be considered in the tests. In the second for loop we have two lines of code, thus the tests should consider each line separately.\n",
        "\n",
        "  ```\n",
        "  # test 1\n",
        "  del i\n",
        "  for patient in patients:\n",
        "    weight, height = patients[i]\n",
        "    print(f\"patient {i} height, weight = {height} {weight}\")\n",
        "\n",
        "  # test 2\n",
        "  height = 0\n",
        "  weight = 70\n",
        "  bmi = calculate_bmi(height, weight)\n",
        "  ```\n",
        "  The tests are implemented below:\n",
        "\n",
        "\n"
      ],
      "metadata": {
        "id": "qnLCV32cE-jK"
      }
    },
    {
      "cell_type": "code",
      "source": [
        "patients = [[70, 1.8], [80, 1.9], [150, 1.7]]\n",
        "# test 1\n",
        "if 'i' in locals():\n",
        "  del i # delete as we use a ipython where variables are saved\n",
        "for patient in patients:\n",
        " weight, height = patients[i]\n",
        " print(f\"patient {i} height, weight = {height} {weight}\")"
      ],
      "metadata": {
        "colab": {
          "base_uri": "https://localhost:8080/",
          "height": 198
        },
        "id": "Jcm6SPJ4NZkj",
        "outputId": "c86f3a49-4b73-4e83-cbfd-6ac5069f84a3"
      },
      "execution_count": 3,
      "outputs": [
        {
          "output_type": "error",
          "ename": "NameError",
          "evalue": "name 'i' is not defined",
          "traceback": [
            "\u001b[0;31m---------------------------------------------------------------------------\u001b[0m",
            "\u001b[0;31mNameError\u001b[0m                                 Traceback (most recent call last)",
            "\u001b[0;32m<ipython-input-3-b38aa826cfa5>\u001b[0m in \u001b[0;36m<cell line: 0>\u001b[0;34m()\u001b[0m\n\u001b[1;32m      4\u001b[0m   \u001b[0;32mdel\u001b[0m \u001b[0mi\u001b[0m \u001b[0;31m# delete as we use a ipython where variables are saved\u001b[0m\u001b[0;34m\u001b[0m\u001b[0;34m\u001b[0m\u001b[0m\n\u001b[1;32m      5\u001b[0m \u001b[0;32mfor\u001b[0m \u001b[0mpatient\u001b[0m \u001b[0;32min\u001b[0m \u001b[0mpatients\u001b[0m\u001b[0;34m:\u001b[0m\u001b[0;34m\u001b[0m\u001b[0;34m\u001b[0m\u001b[0m\n\u001b[0;32m----> 6\u001b[0;31m  \u001b[0mweight\u001b[0m\u001b[0;34m,\u001b[0m \u001b[0mheight\u001b[0m \u001b[0;34m=\u001b[0m \u001b[0mpatients\u001b[0m\u001b[0;34m[\u001b[0m\u001b[0mi\u001b[0m\u001b[0;34m]\u001b[0m\u001b[0;34m\u001b[0m\u001b[0;34m\u001b[0m\u001b[0m\n\u001b[0m\u001b[1;32m      7\u001b[0m  \u001b[0mprint\u001b[0m\u001b[0;34m(\u001b[0m\u001b[0;34mf\"patient {i} height, weight = {height} {weight}\"\u001b[0m\u001b[0;34m)\u001b[0m\u001b[0;34m\u001b[0m\u001b[0;34m\u001b[0m\u001b[0m\n",
            "\u001b[0;31mNameError\u001b[0m: name 'i' is not defined"
          ]
        }
      ]
    },
    {
      "cell_type": "markdown",
      "source": [
        "As expected, variable `i` was used, even though it was out of scope. Thus the same patient was being accessed each time in the second for loop. More specifically the last patient due to the first for loop.\n",
        "\n",
        "To fix this, we will change the line of code to\n",
        "```\n",
        " weight, height = patient\n",
        "```\n",
        "This is as the for loop is accessing the elements of the patients array which are individual patients. When testing this fix we get:"
      ],
      "metadata": {
        "id": "51Vl4yAsPqub"
      }
    },
    {
      "cell_type": "code",
      "source": [
        "patients = [[70, 1.8], [80, 1.9], [150, 1.7]]\n",
        "# test 1\n",
        "if 'i' in locals():\n",
        "  del i # delete as we use a ipython where variables are saved\n",
        "for patient in patients:\n",
        "  weight, height = patient\n",
        "  print(f\"height, weight = {height}, {weight}\")"
      ],
      "metadata": {
        "colab": {
          "base_uri": "https://localhost:8080/"
        },
        "id": "nUqq1hpYTeTD",
        "outputId": "9fb512d9-cdb8-40db-a62c-9b03118519cd"
      },
      "execution_count": 4,
      "outputs": [
        {
          "output_type": "stream",
          "name": "stdout",
          "text": [
            "height, weight = 1.8, 70\n",
            "height, weight = 1.9, 80\n",
            "height, weight = 1.7, 150\n"
          ]
        }
      ]
    },
    {
      "cell_type": "markdown",
      "source": [
        "We see that we now get no error, and the height and weights are different."
      ],
      "metadata": {
        "id": "LfmcVecKTwkl"
      }
    },
    {
      "cell_type": "markdown",
      "source": [
        "The result of this fix in the original code is shown below:"
      ],
      "metadata": {
        "id": "9RviZR-0Test"
      }
    },
    {
      "cell_type": "code",
      "source": [
        "patients = [[70, 1.8], [80, 1.9], [150, 1.7]]\n",
        "\n",
        "for i in range(len(patients)):\n",
        "    print(f\"Patient {i}: {patients[i]}\")\n",
        "\n",
        "\n",
        "def calculate_bmi(weight, height):\n",
        "    return weight / (height**2)\n",
        "\n",
        "\n",
        "for patient in patients:\n",
        "    weight, height = patient # fixed only this from results of test 1\n",
        "    bmi = calculate_bmi(height, weight)\n",
        "    print(f\"Patient's BMI is: {bmi}\")"
      ],
      "metadata": {
        "colab": {
          "base_uri": "https://localhost:8080/"
        },
        "id": "4eaWcTFtSXle",
        "outputId": "3c109584-4227-4dfe-ed5d-3db1415b2650"
      },
      "execution_count": 5,
      "outputs": [
        {
          "output_type": "stream",
          "name": "stdout",
          "text": [
            "Patient 0: [70, 1.8]\n",
            "Patient 1: [80, 1.9]\n",
            "Patient 2: [150, 1.7]\n",
            "Patient's BMI is: 0.00036734693877551024\n",
            "Patient's BMI is: 0.000296875\n",
            "Patient's BMI is: 7.555555555555556e-05\n"
          ]
        }
      ]
    },
    {
      "cell_type": "markdown",
      "source": [
        "We see that we succeeded in ensuring that the bmi in each patient is different. However we still notice that the results are still extremely small. Thus, test 2 is conducted below:"
      ],
      "metadata": {
        "id": "EO0YrNSDSlwV"
      }
    },
    {
      "cell_type": "code",
      "source": [
        "# test 2\n",
        "height = 0\n",
        "weight = 70\n",
        "bmi = calculate_bmi(height, weight)\n",
        "print(bmi)"
      ],
      "metadata": {
        "colab": {
          "base_uri": "https://localhost:8080/"
        },
        "id": "oFquBZzYL1nl",
        "outputId": "fe125ed1-0c9a-4570-a5fc-905350ce2f62"
      },
      "execution_count": 6,
      "outputs": [
        {
          "output_type": "stream",
          "name": "stdout",
          "text": [
            "0.0\n"
          ]
        }
      ]
    },
    {
      "cell_type": "markdown",
      "source": [
        "This confirms our suspitions that when feeding the height and weight variable into the calculate_bmi function, they are flipped. This is also clear when looking at the definition of the `calculate_bmi` function. Therefore the fix is changing the positions of `height` and `weight` when calling the `calculate_bmi` function:\n",
        "```\n",
        "bmi = calculate_bmi(height, weight)\n",
        "\n",
        "```\n",
        "Substuting this into our test:"
      ],
      "metadata": {
        "id": "bCd4fBskQ_x-"
      }
    },
    {
      "cell_type": "code",
      "source": [
        "# test 2\n",
        "height = 0\n",
        "weight = 70\n",
        "bmi = calculate_bmi(weight, height)\n",
        "print(bmi)"
      ],
      "metadata": {
        "colab": {
          "base_uri": "https://localhost:8080/",
          "height": 323
        },
        "id": "a0feqnFoUS9Q",
        "outputId": "3d052fd1-6951-4885-ffc0-939cce06da07"
      },
      "execution_count": 7,
      "outputs": [
        {
          "output_type": "error",
          "ename": "ZeroDivisionError",
          "evalue": "division by zero",
          "traceback": [
            "\u001b[0;31m---------------------------------------------------------------------------\u001b[0m",
            "\u001b[0;31mZeroDivisionError\u001b[0m                         Traceback (most recent call last)",
            "\u001b[0;32m<ipython-input-7-6dcd5e164dad>\u001b[0m in \u001b[0;36m<cell line: 0>\u001b[0;34m()\u001b[0m\n\u001b[1;32m      2\u001b[0m \u001b[0mheight\u001b[0m \u001b[0;34m=\u001b[0m \u001b[0;36m0\u001b[0m\u001b[0;34m\u001b[0m\u001b[0;34m\u001b[0m\u001b[0m\n\u001b[1;32m      3\u001b[0m \u001b[0mweight\u001b[0m \u001b[0;34m=\u001b[0m \u001b[0;36m70\u001b[0m\u001b[0;34m\u001b[0m\u001b[0;34m\u001b[0m\u001b[0m\n\u001b[0;32m----> 4\u001b[0;31m \u001b[0mbmi\u001b[0m \u001b[0;34m=\u001b[0m \u001b[0mcalculate_bmi\u001b[0m\u001b[0;34m(\u001b[0m\u001b[0mweight\u001b[0m\u001b[0;34m,\u001b[0m \u001b[0mheight\u001b[0m\u001b[0;34m)\u001b[0m\u001b[0;34m\u001b[0m\u001b[0;34m\u001b[0m\u001b[0m\n\u001b[0m\u001b[1;32m      5\u001b[0m \u001b[0mprint\u001b[0m\u001b[0;34m(\u001b[0m\u001b[0mbmi\u001b[0m\u001b[0;34m)\u001b[0m\u001b[0;34m\u001b[0m\u001b[0;34m\u001b[0m\u001b[0m\n",
            "\u001b[0;32m<ipython-input-5-7c61b1fbcbd9>\u001b[0m in \u001b[0;36mcalculate_bmi\u001b[0;34m(weight, height)\u001b[0m\n\u001b[1;32m      6\u001b[0m \u001b[0;34m\u001b[0m\u001b[0m\n\u001b[1;32m      7\u001b[0m \u001b[0;32mdef\u001b[0m \u001b[0mcalculate_bmi\u001b[0m\u001b[0;34m(\u001b[0m\u001b[0mweight\u001b[0m\u001b[0;34m,\u001b[0m \u001b[0mheight\u001b[0m\u001b[0;34m)\u001b[0m\u001b[0;34m:\u001b[0m\u001b[0;34m\u001b[0m\u001b[0;34m\u001b[0m\u001b[0m\n\u001b[0;32m----> 8\u001b[0;31m     \u001b[0;32mreturn\u001b[0m \u001b[0mweight\u001b[0m \u001b[0;34m/\u001b[0m \u001b[0;34m(\u001b[0m\u001b[0mheight\u001b[0m\u001b[0;34m**\u001b[0m\u001b[0;36m2\u001b[0m\u001b[0;34m)\u001b[0m\u001b[0;34m\u001b[0m\u001b[0;34m\u001b[0m\u001b[0m\n\u001b[0m\u001b[1;32m      9\u001b[0m \u001b[0;34m\u001b[0m\u001b[0m\n\u001b[1;32m     10\u001b[0m \u001b[0;34m\u001b[0m\u001b[0m\n",
            "\u001b[0;31mZeroDivisionError\u001b[0m: division by zero"
          ]
        }
      ]
    },
    {
      "cell_type": "markdown",
      "source": [
        "We successfully get a division by zero error. Thus, we now implement the fix into the code resulting from the conclusions of test 1:"
      ],
      "metadata": {
        "id": "TBNPkUv_UWmw"
      }
    },
    {
      "cell_type": "code",
      "source": [
        "patients = [[70, 1.8], [80, 1.9], [150, 1.7]]\n",
        "\n",
        "for i in range(len(patients)):\n",
        "    print(f\"Patient {i}: {patients[i]}\")\n",
        "\n",
        "\n",
        "def calculate_bmi(weight, height):\n",
        "    return weight / (height**2)\n",
        "\n",
        "\n",
        "for patient in patients:\n",
        "    weight, height = patient # fixed only this from results of test 1\n",
        "    bmi = calculate_bmi(weight, height)\n",
        "    print(f\"Patient's BMI is: {bmi}\")"
      ],
      "metadata": {
        "colab": {
          "base_uri": "https://localhost:8080/"
        },
        "id": "j_ZeYa7QVcFG",
        "outputId": "dda27bb0-d011-4272-b78a-6498180e84c3"
      },
      "execution_count": 8,
      "outputs": [
        {
          "output_type": "stream",
          "name": "stdout",
          "text": [
            "Patient 0: [70, 1.8]\n",
            "Patient 1: [80, 1.9]\n",
            "Patient 2: [150, 1.7]\n",
            "Patient's BMI is: 21.604938271604937\n",
            "Patient's BMI is: 22.1606648199446\n",
            "Patient's BMI is: 51.90311418685122\n"
          ]
        }
      ]
    },
    {
      "cell_type": "markdown",
      "source": [
        "We now see that everything is fixed: We get different BMI's for each patient. This was achieved by first considering how the `weight` and `height` variables were extracted and then considering if they were in the correct positions when calling the `calculate_bmi` function. However, the code and output are still relative unclear, especially if `calculate_bmi` was to be defined in a different module. Thus a final \"clean-up\" of the code is presented below. The key changes are:\n",
        "1. placing definition of the function at the top\n",
        "1. using only one for loop\n",
        "1. not using positional arguments\n"
      ],
      "metadata": {
        "id": "iyQU8fzYVr3h"
      }
    },
    {
      "cell_type": "code",
      "source": [
        "def calculate_bmi(weight, height):\n",
        "    return weight / (height**2)\n",
        "\n",
        "patients = [[70, 1.8], [80, 1.9], [150, 1.7]]\n",
        "for i, patient in enumerate(patients):\n",
        "    weight, height = patient\n",
        "    bmi = calculate_bmi(weight=weight, height=height)\n",
        "    print(f\"Patient {i}: {patient}\")\n",
        "    print(f\"Patient's BMI is: {bmi}\")"
      ],
      "metadata": {
        "colab": {
          "base_uri": "https://localhost:8080/"
        },
        "id": "tSGr9Ys6VgtK",
        "outputId": "fe958d3d-3d43-4851-89a7-0bc16ede4737"
      },
      "execution_count": 9,
      "outputs": [
        {
          "output_type": "stream",
          "name": "stdout",
          "text": [
            "Patient 0: [70, 1.8]\n",
            "Patient's BMI is: 21.604938271604937\n",
            "Patient 1: [80, 1.9]\n",
            "Patient's BMI is: 22.1606648199446\n",
            "Patient 2: [150, 1.7]\n",
            "Patient's BMI is: 51.90311418685122\n"
          ]
        }
      ]
    }
  ]
}