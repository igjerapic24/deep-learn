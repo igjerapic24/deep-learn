{
  "cells": [
    {
      "cell_type": "code",
      "execution_count": 1,
      "metadata": {
        "colab": {
          "base_uri": "https://localhost:8080/"
        },
        "id": "9o6pbClb-h84",
        "outputId": "c95eb2d1-53a3-4efd-cca5-66d2afb81ca0"
      },
      "outputs": [
        {
          "name": "stdout",
          "output_type": "stream",
          "text": [
            "Drive already mounted at /content/drive/; to attempt to forcibly remount, call drive.mount(\"/content/drive/\", force_remount=True).\n",
            "/content/drive/MyDrive/nanoscience_mast/deep-learn/hws/hw1\n"
          ]
        }
      ],
      "source": [
        "# mounting drive. Remove when testing/running locally\n",
        "from google.colab import drive\n",
        "drive.mount('/content/drive/')\n",
        "%cd /content/drive/MyDrive/nanoscience_mast/deep-learn/hws/hw1/"
      ]
    },
    {
      "cell_type": "markdown",
      "metadata": {
        "id": "sC9s41U25t5z"
      },
      "source": [
        "# Hands-on 01a: Introduction\n",
        "\n",
        "## Numpy array basics"
      ]
    },
    {
      "cell_type": "markdown",
      "metadata": {
        "id": "AFCSWNYL-cCL"
      },
      "source": []
    },
    {
      "cell_type": "code",
      "execution_count": 6,
      "metadata": {
        "colab": {
          "base_uri": "https://localhost:8080/"
        },
        "id": "x-5Jq9Hq7SBr",
        "outputId": "7866998b-f076-4d45-9728-5d8f5290744a"
      },
      "outputs": [
        {
          "name": "stdout",
          "output_type": "stream",
          "text": [
            "/home/ilija/uni/deep-learn/hw/hw1/assignment1_gjerapić_s4437586\n"
          ]
        },
        {
          "name": "stderr",
          "output_type": "stream",
          "text": [
            "/home/ilija/anaconda3/envs/deep-learn-env/lib/python3.12/site-packages/IPython/core/magics/osm.py:417: UserWarning: This is now an optional IPython functionality, setting dhist requires you to install the `pickleshare` library.\n",
            "  self.shell.db['dhist'] = compress_dhist(dhist)[-100:]\n"
          ]
        },
        {
          "data": {
            "text/plain": [
              "(4,)"
            ]
          },
          "execution_count": 6,
          "metadata": {},
          "output_type": "execute_result"
        }
      ],
      "source": [
        "import numpy as np\n",
        "# defining 1D array (a vector)\n",
        "x = np.array([1, 2, 3, 4])\n",
        "\n",
        "# shape of array\n",
        "x.shape"
      ]
    },
    {
      "cell_type": "code",
      "execution_count": 2,
      "metadata": {
        "colab": {
          "base_uri": "https://localhost:8080/"
        },
        "id": "KChe7htm7qT6",
        "outputId": "c49cb290-6c24-4781-81b7-950792e80f27"
      },
      "outputs": [
        {
          "data": {
            "text/plain": [
              "(2, 4)"
            ]
          },
          "execution_count": 2,
          "metadata": {},
          "output_type": "execute_result"
        }
      ],
      "source": [
        "# 2D array\n",
        "w = np.array([[1, 2, 3, 4], [1, 2, 3, 4]])\n",
        "\n",
        "# shape of array\n",
        "w.shape"
      ]
    },
    {
      "cell_type": "code",
      "execution_count": 3,
      "metadata": {
        "colab": {
          "base_uri": "https://localhost:8080/"
        },
        "id": "8HfW2YuK73Bk",
        "outputId": "ff996f8d-c969-422a-c934-664f17522958"
      },
      "outputs": [
        {
          "name": "stdout",
          "output_type": "stream",
          "text": [
            "(2,)\n",
            "(2,)\n"
          ]
        }
      ],
      "source": [
        "# matrix multiplicaiton\n",
        "out = np.matmul(w, x)\n",
        "\n",
        "# simplified\n",
        "out1 = w @ x\n",
        "\n",
        "# checking shapes\n",
        "print(out.shape)\n",
        "print(out1.shape)\n"
      ]
    },
    {
      "cell_type": "markdown",
      "metadata": {
        "id": "jw6Th-n48Q8o"
      },
      "source": [
        "## Loading data with Numpy"
      ]
    },
    {
      "cell_type": "code",
      "execution_count": 8,
      "metadata": {
        "colab": {
          "base_uri": "https://localhost:8080/"
        },
        "id": "VZjvX20u8H1B",
        "outputId": "d9ede2d2-4ee0-499a-c103-63f707d149fa"
      },
      "outputs": [
        {
          "name": "stdout",
          "output_type": "stream",
          "text": [
            "[[0. 0. 1. ... 3. 0. 0.]\n",
            " [0. 1. 2. ... 1. 0. 1.]\n",
            " [0. 1. 1. ... 2. 1. 1.]\n",
            " ...\n",
            " [0. 1. 1. ... 1. 1. 1.]\n",
            " [0. 0. 0. ... 0. 2. 0.]\n",
            " [0. 0. 1. ... 1. 1. 0.]]\n",
            "<class 'numpy.ndarray'>\n",
            "(60, 40)\n",
            "float64\n"
          ]
        }
      ],
      "source": [
        "data = np.loadtxt(fname = \"data/inflammation-01.csv\", delimiter=\",\")\n",
        "print(data)\n",
        "\n",
        "# printing features of data\n",
        "print(type(data))\n",
        "print(data.shape)\n",
        "print(data.dtype)"
      ]
    },
    {
      "cell_type": "code",
      "execution_count": 9,
      "metadata": {
        "colab": {
          "base_uri": "https://localhost:8080/"
        },
        "id": "85C5kS5B8nlw",
        "outputId": "ef5fa92a-921f-4fb7-cf34-7d64a65070cd"
      },
      "outputs": [
        {
          "name": "stdout",
          "output_type": "stream",
          "text": [
            "First data point: 0.0\n",
            "Middle data point: 13.0\n"
          ]
        }
      ],
      "source": [
        "# accessing elems with two data points\n",
        "print(f\"First data point: {data[0, 0]}\")\n",
        "print(f\"Middle data point: {data[30, 20]}\")"
      ]
    },
    {
      "cell_type": "markdown",
      "metadata": {
        "id": "oUe0J1KU_vmg"
      },
      "source": [
        "## Splicing data"
      ]
    },
    {
      "cell_type": "code",
      "execution_count": 10,
      "metadata": {
        "colab": {
          "base_uri": "https://localhost:8080/"
        },
        "id": "F5IDDlCL_eCI",
        "outputId": "27b486a6-08af-4c2b-c687-cc09fc5882a9"
      },
      "outputs": [
        {
          "name": "stdout",
          "output_type": "stream",
          "text": [
            "[[0. 0. 1. 3. 1. 2. 4. 7. 8. 3.]\n",
            " [0. 1. 2. 1. 2. 1. 3. 2. 2. 6.]\n",
            " [0. 1. 1. 3. 3. 2. 6. 2. 5. 9.]\n",
            " [0. 0. 2. 0. 4. 2. 2. 1. 6. 7.]]\n",
            "[[0. 0. 1. 2. 2. 4. 2. 1. 6. 4.]\n",
            " [0. 0. 2. 2. 4. 2. 2. 5. 5. 8.]\n",
            " [0. 0. 1. 2. 3. 1. 2. 3. 5. 3.]\n",
            " [0. 0. 0. 3. 1. 5. 6. 5. 5. 8.]\n",
            " [0. 1. 1. 2. 1. 3. 5. 3. 5. 8.]]\n",
            "small is \n",
            "[[2. 3. 0. 0.]\n",
            " [1. 1. 0. 1.]\n",
            " [2. 2. 1. 1.]]\n"
          ]
        }
      ],
      "source": [
        "# first four rows and first 10 columns\n",
        "print(data[0:4, 0:10])\n",
        "\n",
        "# rwos 5-10 and first 10 columns\n",
        "print(data[5:10, 0:10])\n",
        "\n",
        "# showing python uses zero as default and : by self splices till end\n",
        "small = data[:3, 36:]\n",
        "print(f\"small is \\n{small}\")"
      ]
    },
    {
      "cell_type": "markdown",
      "metadata": {
        "id": "kce_vJHnAdEp"
      },
      "source": [
        "## Analyzing data"
      ]
    },
    {
      "cell_type": "code",
      "execution_count": 11,
      "metadata": {
        "colab": {
          "base_uri": "https://localhost:8080/"
        },
        "id": "9kqpspoLAGWu",
        "outputId": "87390729-75a5-44bb-8751-bbdaea71fad4"
      },
      "outputs": [
        {
          "name": "stdout",
          "output_type": "stream",
          "text": [
            "6.14875\n",
            "[ 0.          0.45        1.11666667  1.75        2.43333333  3.15\n",
            "  3.8         3.88333333  5.23333333  5.51666667  5.95        5.9\n",
            "  8.35        7.73333333  8.36666667  9.5         9.58333333 10.63333333\n",
            " 11.56666667 12.35       13.25       11.96666667 11.03333333 10.16666667\n",
            " 10.          8.66666667  9.15        7.25        7.33333333  6.58333333\n",
            "  6.06666667  5.95        5.11666667  3.6         3.3         3.56666667\n",
            "  2.48333333  1.5         1.13333333  0.56666667]\n",
            "(40,)\n"
          ]
        }
      ],
      "source": [
        "# finding the mean of data\n",
        "mean_patients_and_days = np.mean(data)\n",
        "print(mean_patients_and_days)\n",
        "\n",
        "# finding the mean of each patient\n",
        "mean_patients = np.mean(data, axis=0)\n",
        "print(mean_patients)\n",
        "print(mean_patients.shape)\n",
        "\n"
      ]
    },
    {
      "cell_type": "markdown",
      "metadata": {
        "id": "DYGDPtSLBIJK"
      },
      "source": [
        "`mean_patients` is a $40 \\times 1$ vesctor, thus is average inflammation per day for all patients (started with 60-row and 40-column matrix)"
      ]
    },
    {
      "cell_type": "code",
      "execution_count": 12,
      "metadata": {
        "colab": {
          "base_uri": "https://localhost:8080/"
        },
        "id": "-nqiMuJpBHpt",
        "outputId": "6840adc2-920a-49ef-ef0a-33dd1cc3cdaf"
      },
      "outputs": [
        {
          "name": "stdout",
          "output_type": "stream",
          "text": [
            "[5.45  5.425 6.1   5.9   5.55  6.225 5.975 6.65  6.625 6.525 6.775 5.8\n",
            " 6.225 5.75  5.225 6.3   6.55  5.7   5.85  6.55  5.775 5.825 6.175 6.1\n",
            " 5.8   6.425 6.05  6.025 6.175 6.55  6.175 6.35  6.725 6.125 7.075 5.725\n",
            " 5.925 6.15  6.075 5.75  5.975 5.725 6.3   5.9   6.75  5.925 7.225 6.15\n",
            " 5.95  6.275 5.7   6.1   6.825 5.975 6.725 5.7   6.25  6.4   7.05  5.9  ]\n",
            "(60,)\n"
          ]
        }
      ],
      "source": [
        "# averaging over axis 1 (averaging over the columns)\n",
        "# finding the mean of each day\n",
        "mean_days = np.mean(data, axis=1)\n",
        "print(mean_days)\n",
        "print(mean_days.shape)"
      ]
    },
    {
      "cell_type": "markdown",
      "metadata": {
        "id": "H7SeC4y-BhZM"
      },
      "source": [
        "`mean_days` is average inflamation per patient accross all days"
      ]
    },
    {
      "cell_type": "markdown",
      "metadata": {
        "id": "4xTcpnerB-jE"
      },
      "source": [
        "## Visualizing data"
      ]
    },
    {
      "cell_type": "code",
      "execution_count": 14,
      "metadata": {
        "colab": {
          "base_uri": "https://localhost:8080/",
          "height": 455
        },
        "id": "kIbo4qY3A7PD",
        "outputId": "f57ecfcc-d906-457a-b544-cebef6581e53"
      },
      "outputs": [
        {
          "data": {
            "image/png": "[encoded data removed]",
            "text/plain": [
              "<Figure size 640x480 with 2 Axes>"
            ]
          },
          "metadata": {},
          "output_type": "display_data"
        }
      ],
      "source": [
        "import matplotlib.pyplot as plt\n",
        "\n",
        "image = plt.imshow(data, origin='lower') # origin = upper is default\n",
        "cbar = plt.colorbar()\n",
        "\n",
        "# adding labels and units\n",
        "plt.ylabel(\"Patient\")\n",
        "plt.xlabel(\"Day\")\n",
        "cbar.set_label(\"Inflammation\")\n",
        "plt.show()"
      ]
    },
    {
      "cell_type": "markdown",
      "metadata": {
        "id": "9e5HX93fCo6g"
      },
      "source": [
        "Each row corresponds to patient, while each columns corresponds to a day in the dataset. General inflammation flare-ups for pattients rises and then falls over a 40-day period.\n",
        "\n",
        "In line with what we know from clinical trial and Dr. Maverick's claims:\n",
        "* the patients take their medication once their inflammation flare-ups begin\n",
        "* it takes around 3 weeks for the medication to take effect and begin reducing flare-ups\n",
        "* and flare-ups appear to drop to zero by the end of the clinical trial.\n",
        "\n",
        "Looking at average inflammation over time:"
      ]
    },
    {
      "cell_type": "code",
      "execution_count": 15,
      "metadata": {
        "colab": {
          "base_uri": "https://localhost:8080/",
          "height": 449
        },
        "id": "QiPy--6RCejZ",
        "outputId": "03949459-8e15-4c9c-a874-a882b58a4d1a"
      },
      "outputs": [
        {
          "data": {
            "image/png": "[encoded data removed]",
            "text/plain": [
              "<Figure size 640x480 with 1 Axes>"
            ]
          },
          "metadata": {},
          "output_type": "display_data"
        }
      ],
      "source": [
        "ave_inflammation = np.mean(data, axis=0)\n",
        "# Note: drawstyle=\"steps-mid\" to reflect discrete nature of data\n",
        "ave_plot = plt.plot(ave_inflammation, drawstyle=\"steps-mid\")\n",
        "plt.ylabel(\"Average inflammation\")\n",
        "plt.xlabel(\"Day\")\n",
        "plt.show()"
      ]
    },
    {
      "cell_type": "markdown",
      "metadata": {
        "id": "ef2w0QW6Dr54"
      },
      "source": [
        "Notice a reasonable linear rise and fall,  in line with Dr. Maverick’s claim that the medication takes 3 weeks to take effect.\n",
        "\n",
        "To have a better insight into the data set, need to take look at other statistics:"
      ]
    },
    {
      "cell_type": "code",
      "execution_count": 16,
      "metadata": {
        "colab": {
          "base_uri": "https://localhost:8080/",
          "height": 449
        },
        "id": "2AJbNabiDgtH",
        "outputId": "62358bab-b64a-488f-b699-0c59622be8f2"
      },
      "outputs": [
        {
          "data": {
            "image/png": "[encoded data removed]",
            "text/plain": [
              "<Figure size 640x480 with 1 Axes>"
            ]
          },
          "metadata": {},
          "output_type": "display_data"
        }
      ],
      "source": [
        "max_plot = plt.plot(np.max(data, axis=0), drawstyle=\"steps-mid\")\n",
        "plt.xlabel(\"Day\")\n",
        "plt.ylabel(\"Maximum inflammation\")\n",
        "plt.show()"
      ]
    },
    {
      "cell_type": "code",
      "execution_count": 13,
      "metadata": {
        "colab": {
          "base_uri": "https://localhost:8080/",
          "height": 449
        },
        "id": "_DQCQ_YkEJcz",
        "outputId": "8ebaf09a-a522-43d1-d727-a82f2d220423"
      },
      "outputs": [
        {
          "data": {
            "image/png": "[encoded data removed]",
            "text/plain": [
              "<Figure size 640x480 with 1 Axes>"
            ]
          },
          "metadata": {},
          "output_type": "display_data"
        }
      ],
      "source": [
        "min_plot = plt.plot(np.min(data, axis=0), drawstyle=\"steps-mid\")\n",
        "plt.xlabel(\"Day\")\n",
        "plt.ylabel(\"Minimum inflammation\")\n",
        "plt.show()"
      ]
    },
    {
      "cell_type": "markdown",
      "metadata": {
        "id": "7uxRak2BEVp4"
      },
      "source": [
        "The maximum value rises and falls linearly, while the minimum seems to be a step function. Neither trend seems particularly likely, so either there’s a mistake in our calculations or something is wrong with our data. This insight would have been difficult to reach by examining the numbers themselves without visualization tools."
      ]
    },
    {
      "cell_type": "markdown",
      "metadata": {
        "id": "HKyv3V9LEWo4"
      },
      "source": [
        "## Making own plot\n",
        "\n",
        "Plot showing standard deviation of implammation for each day across all patients"
      ]
    },
    {
      "cell_type": "code",
      "execution_count": 17,
      "metadata": {
        "colab": {
          "base_uri": "https://localhost:8080/",
          "height": 449
        },
        "id": "nd1mREekEPpw",
        "outputId": "7ed34545-b93d-49e9-dde1-7044a5398c8b"
      },
      "outputs": [
        {
          "data": {
            "image/png": "[encoded data removed]",
            "text/plain": [
              "<Figure size 640x480 with 1 Axes>"
            ]
          },
          "metadata": {},
          "output_type": "display_data"
        }
      ],
      "source": [
        "std_plot = plt.plot(np.std(data, axis=0), drawstyle=\"steps-mid\")\n",
        "plt.xlabel(\"Day\")\n",
        "plt.ylabel(\"Minimum inflammation\")\n",
        "plt.show()"
      ]
    }
  ],
  "metadata": {
    "colab": {
      "provenance": [],
      "toc_visible": true
    },
    "kernelspec": {
      "display_name": "Python (deep-learn-env)",
      "language": "python",
      "name": "deep-learn-env"
    },
    "language_info": {
      "codemirror_mode": {
        "name": "ipython",
        "version": 3
      },
      "file_extension": ".py",
      "mimetype": "text/x-python",
      "name": "python",
      "nbconvert_exporter": "python",
      "pygments_lexer": "ipython3",
      "version": "3.12.8"
    }
  },
  "nbformat": 4,
  "nbformat_minor": 0
}
